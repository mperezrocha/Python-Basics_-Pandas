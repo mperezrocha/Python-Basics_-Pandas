{
 "cells": [
  {
   "cell_type": "markdown",
   "metadata": {},
   "source": [
    "# Weather Analysis Data Viz"
   ]
  },
  {
   "cell_type": "markdown",
   "metadata": {},
   "source": [
    "Data on climate time series (2009-2020) was obtained from Kaggle (https://www.kaggle.com/mastmustu/weather-analysis/climate_data.csv)\n",
    "\n",
    "-*Temperature given in F*"
   ]
  },
  {
   "cell_type": "code",
   "execution_count": null,
   "metadata": {},
   "outputs": [],
   "source": [
    "#Importing libraries and setting up plot style\n",
    "import numpy as np\n",
    "import pandas as pd\n",
    "import matplotlib.pyplot as plt\n",
    "%matplotlib inline\n",
    "import seaborn as sns\n",
    "plt.style.use('dark_background')\n",
    "print(\"All necessary packages are included!\")"
   ]
  },
  {
   "cell_type": "code",
   "execution_count": null,
   "metadata": {},
   "outputs": [],
   "source": [
    "#Loading the .csv file\n",
    "file = 'climate_data.csv'\n",
    "\n",
    "df = pd.read_csv(file, sep=',', index_col=\"Date\")"
   ]
  },
  {
   "cell_type": "code",
   "execution_count": null,
   "metadata": {},
   "outputs": [],
   "source": [
    "#Inspecting the first 10 rows\n",
    "#df.head(10)"
   ]
  },
  {
   "cell_type": "code",
   "execution_count": null,
   "metadata": {},
   "outputs": [],
   "source": [
    "# Inspecting the 10 last rows\n",
    "df.tail(10)"
   ]
  },
  {
   "cell_type": "code",
   "execution_count": null,
   "metadata": {},
   "outputs": [],
   "source": [
    "# Ploting temperature conditions during 2009\n",
    "plt.figure(figsize=(20,6)) #set size figure\n",
    "x = df.iloc[:30,1] # 'iloc'= work on position (all rows till position 30, columns position 1(temperature))\n",
    "\n",
    "plt.plot(x,color=\"cyan\") #set color\n",
    "plt.xticks(rotation=90) #set ticks\n",
    "plt.title('Temperature Conditions during 2009 \\n',fontsize=20,fontweight='bold') #set title"
   ]
  },
  {
   "cell_type": "code",
   "execution_count": null,
   "metadata": {},
   "outputs": [],
   "source": [
    "# Ploting atmospheric humidity conditions during 2009\n",
    "plt.figure(figsize=(20,6))\n",
    "x = df.iloc[:30,2]\n",
    "\n",
    "plt.plot(x,color=\"yellow\")\n",
    "plt.xticks(rotation=90)\n",
    "plt.title('Atmospheric humidity during 2009\\n',fontsize=20,fontweight='bold')"
   ]
  },
  {
   "cell_type": "code",
   "execution_count": null,
   "metadata": {},
   "outputs": [],
   "source": [
    "# Atmospheric pressure conditions during 2009\n",
    "\n",
    "plt.figure(figsize=(20,6))\n",
    "x = df.iloc[:30,4]\n",
    "plt.plot(x,color=\"red\")\n",
    "plt.xticks(rotation=90)\n",
    "plt.title('Atmospheric pressure conditions during 2009\\n',fontsize=20,fontweight='bold')"
   ]
  },
  {
   "cell_type": "code",
   "execution_count": null,
   "metadata": {},
   "outputs": [],
   "source": [
    "# Atmospheric precipitation conditions during 2009\n",
    "\n",
    "plt.figure(figsize=(20,6))\n",
    "x = df.iloc[:30,9]\n",
    "plt.plot(x,color=\"orange\")\n",
    "plt.xticks(rotation=90)\n",
    "plt.title('Atmospheric precipitation during 2009\\n',fontsize=20,fontweight='bold')"
   ]
  }
 ],
 "metadata": {
  "kernelspec": {
   "display_name": "Python 3",
   "language": "python",
   "name": "python3"
  },
  "language_info": {
   "codemirror_mode": {
    "name": "ipython",
    "version": 3
   },
   "file_extension": ".py",
   "mimetype": "text/x-python",
   "name": "python",
   "nbconvert_exporter": "python",
   "pygments_lexer": "ipython3",
   "version": "3.7.6"
  }
 },
 "nbformat": 4,
 "nbformat_minor": 4
}
